{
 "cells": [
  {
   "cell_type": "code",
   "execution_count": 7,
   "id": "07b65b71-fca6-453f-a435-a6950289e624",
   "metadata": {},
   "outputs": [],
   "source": [
    "import numpy as np\n",
    "\n",
    "#define calculate function where we will give our input\n",
    "def calculate(list):\n",
    "  if len(list)<9:\n",
    "    print(\"List must contain nine numbers.\")\n",
    "    \n",
    "  elif len(list)>9:\n",
    "    print(\"Not more than nine numbers\")\n",
    "    \n",
    "  else:\n",
    "    matrix = np.array(list).reshape(3,3)\n",
    "    \n",
    "    print(matrix)\n",
    "    \n",
    "    calculations={}\n",
    "    \n",
    "    M0=np.mean(matrix,axis=0).tolist()     #'mean': [axis1, axis2, flattened]====>[mean of three rows, mean of three columns, mean of matrix]\n",
    "    M1=np.mean(matrix,axis=1).tolist()\n",
    "    M=np.mean(matrix)\n",
    "    \n",
    "    V0=np.var(matrix,axis=0).tolist() \n",
    "    V1=np.var(matrix,axis=1).tolist()      #same like mean\n",
    "    V=np.var(matrix)\n",
    "    \n",
    "    S0=np.std(matrix,axis=0).tolist()      #same like mean\n",
    "    S1=np.std(matrix,axis=1).tolist() \n",
    "    S=np.std(matrix)\n",
    "    \n",
    "    Max0=np.max(matrix,axis=0).tolist()    #same like mean\n",
    "    Max1=np.max(matrix,axis=1).tolist() \n",
    "    Max=np.max(matrix)\n",
    "\n",
    "    Min0=np.min(matrix,axis=0).tolist()    #same like mean\n",
    "    Min1=np.min(matrix,axis=1).tolist() \n",
    "    Min=np.min(matrix)\n",
    "    \n",
    "    Sum0=np.sum(matrix,axis=0).tolist()    #same like mean\n",
    "    Sum1=np.sum(matrix,axis=1).tolist() \n",
    "    Sum=np.sum(matrix)\n",
    "    \n",
    "    #getting calculations\n",
    "    calculations['mean']=M0,M1,M \n",
    "    calculations['standard deviation']=S0,S1,S   \n",
    "    calculations['Maximum']=Max0,Max1,Max   \n",
    "    calculations['variance']=V0,V1,V\n",
    "    calculations['Minimum']=Min0,Min1,Min    \n",
    "    calculations['Sum']=Sum0,Sum1,Sum\n",
    "    \n",
    "    return calculations"
   ]
  },
  {
   "cell_type": "code",
   "execution_count": 8,
   "id": "e7adcf1d-c2fc-4177-9abc-baa430d4f801",
   "metadata": {},
   "outputs": [
    {
     "name": "stdout",
     "output_type": "stream",
     "text": [
      "[[14 17 51]\n",
      " [44 23 47]\n",
      " [65 87 54]]\n"
     ]
    },
    {
     "data": {
      "text/plain": [
       "{'mean': ([41.0, 42.333333333333336, 50.666666666666664],\n",
       "  [27.333333333333332, 38.0, 68.66666666666667],\n",
       "  44.666666666666664),\n",
       " 'standard deviation': ([20.92844953645635,\n",
       "   31.678944988044595,\n",
       "   2.8674417556808756],\n",
       "  [16.77961726487096, 10.677078252031311, 13.719410418171117],\n",
       "  22.395436042987768),\n",
       " 'Maximum': ([65, 87, 54], [51, 47, 87], 87),\n",
       " 'variance': ([438.0, 1003.5555555555557, 8.222222222222221],\n",
       "  [281.5555555555556, 114.0, 188.2222222222222],\n",
       "  501.55555555555554),\n",
       " 'Minimum': ([14, 17, 47], [14, 23, 54], 14),\n",
       " 'Sum': ([123, 127, 152], [82, 114, 206], 402)}"
      ]
     },
     "execution_count": 8,
     "metadata": {},
     "output_type": "execute_result"
    }
   ],
   "source": [
    "calculate([14,17,51,44,23,47,65,87,54])"
   ]
  },
  {
   "cell_type": "code",
   "execution_count": null,
   "id": "ff853b47-d043-4b4a-a47e-5e24aa9f8f90",
   "metadata": {},
   "outputs": [],
   "source": []
  },
  {
   "cell_type": "code",
   "execution_count": null,
   "id": "03a10a5f-30a5-449b-88ce-5df02a9297b5",
   "metadata": {},
   "outputs": [],
   "source": []
  }
 ],
 "metadata": {
  "kernelspec": {
   "display_name": "Python 3 (ipykernel)",
   "language": "python",
   "name": "python3"
  },
  "language_info": {
   "codemirror_mode": {
    "name": "ipython",
    "version": 3
   },
   "file_extension": ".py",
   "mimetype": "text/x-python",
   "name": "python",
   "nbconvert_exporter": "python",
   "pygments_lexer": "ipython3",
   "version": "3.9.12"
  }
 },
 "nbformat": 4,
 "nbformat_minor": 5
}
